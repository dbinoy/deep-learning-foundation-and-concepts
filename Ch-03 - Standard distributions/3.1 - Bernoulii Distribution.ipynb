{
 "cells": [
  {
   "cell_type": "markdown",
   "id": "196712b6",
   "metadata": {},
   "source": [
    "# Bernoulli distribution\n",
    "\n",
    "For a random vairable with binary values $x \\in \\{0,1\\}$, where\n",
    "$\\begin{cases}p(x=1|\\mu) = \\mu\\\\p(x=0|\\mu) = 1 - \\mu \\end{cases}$<br><br>\n",
    "the probability distribution over $x$ is known as $Bernoulli\\ Distribution$, and is written in discrete form  as:<br>\n",
    "\n",
    "$\\boxed{Bern(x|\\mu) = \\mu^x(1-\\mu)^x}$<br><br>\n",
    "\n",
    "To prove that the Bernouli Distributon is normalized, consider the sum of probabilities over all values:<br>\n",
    "$\n",
    "\\sum\\limits_{x \\in \\{0,1\\}}p(x|\\mu)\n",
    "= p(x=0|\\mu)+p(x=1|\\mu)\\\\\n",
    "= (1-\\mu)+\\mu=1\n",
    "$<br>\n",
    "Since sum of probabilities equal to $1$, the distribution is normalized.<br><br>\n",
    "\n",
    "Mean of Bernoulli Distribution can be found as:<br>\n",
    "$\n",
    "\\mathbb{E}[x] = \\sum\\limits_{x \\in \\{0,1\\}}xp(x|\\mu)\\\\\n",
    "= 0 \\cdot p(x=0|\\mu) + 1 \\cdot p(x=1|\\mu)\\\\\n",
    "= 0 + 1 \\cdot \\mu = \\mu\n",
    "$<br><br>\n",
    "\n",
    "Variance of discrete Bernoulli Distribution can be found as:<br>\n",
    "$\n",
    "var[x] = \\sum\\limits_{x \\in \\{0,1\\}}(x - \\mu)^2p(x|\\mu)\\\\\n",
    "= \\mu^2 \\cdot p(x=0|\\mu) + (1 - \\mu)^2 \\cdot p(x=1|\\mu)\\\\\n",
    "= \\mu^2 (1 - \\mu) + (1 - \\mu)^2 \\mu\\\\\n",
    "= \\mu(1 - \\mu) \\cdot (\\mu + 1 - \\mu)= \\mu(1 - \\mu)\n",
    "$<br><br>\n",
    "\n",
    "To find the entropy of this discrete Bernoulli Distribution:<br>\n",
    "$\n",
    "\\mathbb{H}[x] = -\\sum\\limits_{x \\in \\{0,1\\}}p(x|\\mu)\\ ln\\ p(x|\\mu)\\\\\n",
    "= -\\sum\\limits_{x \\in \\{0,1\\}}\\mu^x(1-\\mu)^x\\{x\\ ln\\mu + (1-x)\\ ln(1-\\mu)\\}\\\\\n",
    "= -(1-\\mu)ln(1-\\mu) - \\mu\\ ln\\mu\n",
    "$"
   ]
  },
  {
   "cell_type": "markdown",
   "id": "42e0f60b",
   "metadata": {},
   "source": []
  }
 ],
 "metadata": {
  "kernelspec": {
   "display_name": ".venv",
   "language": "python",
   "name": "python3"
  },
  "language_info": {
   "codemirror_mode": {
    "name": "ipython",
    "version": 3
   },
   "file_extension": ".py",
   "mimetype": "text/x-python",
   "name": "python",
   "nbconvert_exporter": "python",
   "pygments_lexer": "ipython3",
   "version": "3.13.3"
  }
 },
 "nbformat": 4,
 "nbformat_minor": 5
}
